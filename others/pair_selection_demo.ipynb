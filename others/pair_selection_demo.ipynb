{
 "cells": [
  {
   "cell_type": "code",
   "execution_count": null,
   "id": "7738a93f",
   "metadata": {
    "ExecuteTime": {
     "end_time": "2023-02-15T20:43:17.408093Z",
     "start_time": "2023-02-15T20:43:17.289952Z"
    }
   },
   "outputs": [],
   "source": [
    "from collections import deque\n",
    "import itertools as it\n",
    "from tqdm import tqdm\n",
    "import matplotlib.pyplot as plt"
   ]
  },
  {
   "cell_type": "code",
   "execution_count": null,
   "id": "87fc75a7",
   "metadata": {
    "ExecuteTime": {
     "end_time": "2023-02-15T20:43:25.003875Z",
     "start_time": "2023-02-15T20:43:24.989417Z"
    }
   },
   "outputs": [],
   "source": [
    "class Pair:\n",
    "    def __init__(self, symbol_a, symbol_b, price_a, price_b):\n",
    "        self.symbol_a = symbol_a\n",
    "        self.symbol_b = symbol_b\n",
    "        self.price_a = price_a\n",
    "        self.price_b = price_b\n",
    "    \n",
    "    def distance(self):\n",
    "        # calculate the sum of squared deviations between two normalized price series\n",
    "        norm_a = np.array(self.price_a)/self.price_a[0]\n",
    "        norm_b = np.array(self.price_b)/self.price_b[0]\n",
    "        return sum((norm_a - norm_b)**2)"
   ]
  },
  {
   "cell_type": "code",
   "execution_count": null,
   "id": "5a5e2031",
   "metadata": {
    "ExecuteTime": {
     "end_time": "2023-02-15T20:43:33.446502Z",
     "start_time": "2023-02-15T20:43:33.425240Z"
    }
   },
   "outputs": [],
   "source": [
    "tickers = ['MMM', 'AOS', 'ABT', 'ABBV', 'ACN', 'ATVI', 'ADM', 'ADBE', 'ADP',\n",
    "       'AAP', 'AES', 'AFL', 'A', 'APD', 'AKAM', 'ALK', 'ALB', 'ARE',\n",
    "       'ALGN', 'ALLE', 'LNT', 'ALL', 'GOOGL', 'GOOG', 'MO', 'AMZN',\n",
    "       'AMCR', 'AMD', 'AEE', 'AAL', 'AEP', 'AXP', 'AIG', 'AMT', 'AWK',\n",
    "       'AMP', 'ABC', 'AME', 'AMGN', 'APH', 'ADI', 'ANSS', 'AON', 'APA',\n",
    "       'AAPL', 'AMAT', 'APTV', 'ACGL', 'ANET', 'AJG', 'AIZ', 'T', 'ATO',\n",
    "       'ADSK', 'AZO', 'AVB', 'AVY', 'BKR', 'BALL', 'BAC', 'BBWI', 'BAX',\n",
    "       'BDX', 'WRB', 'BRK.B', 'BBY', 'BIO', 'TECH', 'BIIB', 'BLK', 'BK',\n",
    "       'BA', 'BKNG', 'BWA', 'BXP', 'BSX', 'BMY', 'AVGO', 'BR', 'BRO',\n",
    "       'BF.B', 'CHRW', 'CDNS', 'CZR', 'CPT', 'CPB', 'COF', 'CAH', 'KMX',\n",
    "       'CCL', 'CARR', 'CTLT', 'CAT', 'CBOE', 'CBRE', 'CDW', 'CE', 'CNC',\n",
    "       'CNP', 'CDAY', 'CF', 'CRL', 'SCHW', 'CHTR', 'CVX', 'CMG', 'CB',\n",
    "       'CHD', 'CI', 'CINF', 'CTAS', 'CSCO', 'C', 'CFG', 'CLX', 'CME',\n",
    "       'CMS', 'KO', 'CTSH', 'CL', 'CMCSA', 'CMA', 'CAG', 'COP', 'ED',\n",
    "       'STZ', 'CEG', 'COO', 'CPRT', 'GLW', 'CTVA', 'CSGP', 'COST', 'CTRA',\n",
    "       'CCI', 'CSX', 'CMI', 'CVS', 'DHI', 'DHR', 'DRI', 'DVA', 'DE',\n",
    "       'DAL', 'XRAY', 'DVN', 'DXCM', 'FANG', 'DLR', 'DFS', 'DISH', 'DIS',\n",
    "       'DG', 'DLTR', 'D', 'DPZ', 'DOV', 'DOW', 'DTE', 'DUK', 'DD', 'DXC',\n",
    "       'EMN', 'ETN', 'EBAY', 'ECL', 'EIX', 'EW', 'EA', 'ELV', 'LLY',\n",
    "       'EMR', 'ENPH', 'ETR', 'EOG', 'EPAM', 'EQT', 'EFX', 'EQIX', 'EQR',\n",
    "       'ESS', 'EL', 'ETSY', 'RE', 'EVRG', 'ES', 'EXC', 'EXPE', 'EXPD',\n",
    "       'EXR', 'XOM', 'FFIV', 'FDS', 'FAST', 'FRT', 'FDX', 'FITB', 'FRC',\n",
    "       'FSLR', 'FE', 'FIS', 'FISV', 'FLT', 'FMC', 'F', 'FTNT', 'FTV',\n",
    "       'FOXA', 'FOX', 'BEN', 'FCX', 'GRMN', 'IT', 'GEHC', 'GEN', 'GNRC',\n",
    "       'GD', 'GE', 'GIS', 'GM', 'GPC', 'GILD', 'GL', 'GPN', 'GS', 'HAL',\n",
    "       'HIG', 'HAS', 'HCA', 'PEAK', 'HSIC', 'HSY', 'HES', 'HPE', 'HLT',\n",
    "       'HOLX', 'HD', 'HON', 'HRL', 'HST', 'HWM', 'HPQ', 'HUM', 'HBAN',\n",
    "       'HII', 'IBM', 'IEX', 'IDXX', 'ITW', 'ILMN', 'INCY', 'IR', 'INTC',\n",
    "       'ICE', 'IP', 'IPG', 'IFF', 'INTU', 'ISRG', 'IVZ', 'INVH', 'IQV',\n",
    "       'IRM', 'JBHT', 'JKHY', 'J', 'JNJ', 'JCI', 'JPM', 'JNPR', 'K',\n",
    "       'KDP', 'KEY', 'KEYS', 'KMB', 'KIM', 'KMI', 'KLAC', 'KHC', 'KR',\n",
    "       'LHX', 'LH', 'LRCX', 'LW', 'LVS', 'LDOS', 'LEN', 'LNC', 'LIN',\n",
    "       'LYV', 'LKQ', 'LMT', 'L', 'LOW', 'LUMN', 'LYB', 'MTB', 'MRO',\n",
    "       'MPC', 'MKTX', 'MAR', 'MMC', 'MLM', 'MAS', 'MA', 'MTCH', 'MKC',\n",
    "       'MCD', 'MCK', 'MDT', 'MRK', 'META', 'MET', 'MTD', 'MGM', 'MCHP',\n",
    "       'MU', 'MSFT', 'MAA', 'MRNA', 'MHK', 'MOH', 'TAP', 'MDLZ', 'MPWR',\n",
    "       'MNST', 'MCO', 'MS', 'MOS', 'MSI', 'MSCI', 'NDAQ', 'NTAP', 'NFLX',\n",
    "       'NWL', 'NEM', 'NWSA', 'NWS', 'NEE', 'NKE', 'NI', 'NDSN', 'NSC',\n",
    "       'NTRS', 'NOC', 'NCLH', 'NRG', 'NUE', 'NVDA', 'NVR', 'NXPI', 'ORLY',\n",
    "       'OXY', 'ODFL', 'OMC', 'ON', 'OKE', 'ORCL', 'OGN', 'OTIS', 'PCAR',\n",
    "       'PKG', 'PARA', 'PH', 'PAYX', 'PAYC', 'PYPL', 'PNR', 'PEP', 'PKI',\n",
    "       'PFE', 'PCG', 'PM', 'PSX', 'PNW', 'PXD', 'PNC', 'POOL', 'PPG',\n",
    "       'PPL', 'PFG', 'PG', 'PGR', 'PLD', 'PRU', 'PEG', 'PTC', 'PSA',\n",
    "       'PHM', 'QRVO', 'PWR', 'QCOM', 'DGX', 'RL', 'RJF', 'RTX', 'O',\n",
    "       'REG', 'REGN', 'RF', 'RSG', 'RMD', 'RHI', 'ROK', 'ROL', 'ROP',\n",
    "       'ROST', 'RCL', 'SPGI', 'CRM', 'SBAC', 'SLB', 'STX', 'SEE', 'SRE',\n",
    "       'NOW', 'SHW', 'SBNY', 'SPG', 'SWKS', 'SJM', 'SNA', 'SEDG', 'SO',\n",
    "       'LUV', 'SWK', 'SBUX', 'STT', 'STLD', 'STE', 'SYK', 'SIVB', 'SYF',\n",
    "       'SNPS', 'SYY', 'TMUS', 'TROW', 'TTWO', 'TPR', 'TRGP', 'TGT', 'TEL',\n",
    "       'TDY', 'TFX', 'TER', 'TSLA', 'TXN', 'TXT', 'TMO', 'TJX', 'TSCO',\n",
    "       'TT', 'TDG', 'TRV', 'TRMB', 'TFC', 'TYL', 'TSN', 'USB', 'UDR',\n",
    "       'ULTA', 'UNP', 'UAL', 'UPS', 'URI', 'UNH', 'UHS', 'VLO', 'VTR',\n",
    "       'VRSN', 'VRSK', 'VZ', 'VRTX', 'VFC', 'VTRS', 'VICI', 'V', 'VMC',\n",
    "       'WAB', 'WBA', 'WMT', 'WBD', 'WM', 'WAT', 'WEC', 'WFC', 'WELL',\n",
    "       'WST', 'WDC', 'WRK', 'WY', 'WHR', 'WMB', 'WTW', 'GWW', 'WYNN',\n",
    "       'XEL', 'XYL', 'YUM', 'ZBRA', 'ZBH', 'ZION', 'ZTS']"
   ]
  },
  {
   "cell_type": "code",
   "execution_count": null,
   "id": "003d2d19",
   "metadata": {},
   "outputs": [],
   "source": [
    "pairs = {}\n",
    "formation_period = 200\n",
    "\n",
    "qb = QuantBook()\n",
    "\n",
    "symbols = []\n",
    "for i in tickers:\n",
    "    symbols.append(qb.AddEquity(i, Resolution.Daily).Symbol)\n",
    "    if str(symbols[-1])=='GEN':\n",
    "        print('GEN appended!!!')\n",
    "        gen = qb.AddEquity(i, Resolution.Daily).Symbol\n",
    "print(len(symbols), len(tickers))\n",
    "\n",
    "for symbol in symbols:\n",
    "    if str(symbol) == 'GEN':\n",
    "        print('Has GEN!!!')\n",
    "\n",
    "history_price = {}\n",
    "to_be_removed = []\n",
    "for symbol in symbols:\n",
    "    if str(symbol) == 'GEN':\n",
    "        print(True)\n",
    "    hist = qb.History([symbol], formation_period+1, Resolution.Daily)\n",
    "    if hist.empty: \n",
    "        to_be_removed.append(symbol)\n",
    "        # symbols.remove(symbol)\n",
    "    else:\n",
    "        history_price[str(symbol)] = deque(maxlen=formation_period)\n",
    "        for tuple in hist.loc[str(symbol)].itertuples():\n",
    "            history_price[str(symbol)].append(float(tuple.close))\n",
    "        if len(history_price[str(symbol)]) < formation_period:\n",
    "            # print(f'{str(symbol)} removed!')\n",
    "            to_be_removed.append(symbol)\n",
    "            # symbols.remove(symbol)\n",
    "            history_price.pop(str(symbol))\n",
    "for symbol in to_be_removed:\n",
    "    symbols.remove(symbol)"
   ]
  },
  {
   "cell_type": "code",
   "execution_count": null,
   "id": "9bc81962",
   "metadata": {},
   "outputs": [],
   "source": [
    "symbol_pairs = list(it.combinations(symbols, 2))\n",
    "sorted_pairs = None\n",
    "distances = {}\n",
    "for s in tqdm(range(len(symbol_pairs))):\n",
    "    i = symbol_pairs[s]\n",
    "    distances[i] = Pair(i[0], i[1], history_price[str(i[0])],  history_price[str(i[1])]).distance()\n",
    "    sorted_pairs = sorted(distances, key = lambda x: distances[x])[:20]"
   ]
  },
  {
   "cell_type": "code",
   "execution_count": null,
   "id": "21ceedcc",
   "metadata": {},
   "outputs": [],
   "source": [
    "for pair in sorted_pairs:\n",
    "    print(f'Pair: {pair[0].ToString(),pair[1].ToString()}')"
   ]
  }
 ],
 "metadata": {
  "kernelspec": {
   "display_name": "Python 3 (ipykernel)",
   "language": "python",
   "name": "python3"
  },
  "language_info": {
   "codemirror_mode": {
    "name": "ipython",
    "version": 3
   },
   "file_extension": ".py",
   "mimetype": "text/x-python",
   "name": "python",
   "nbconvert_exporter": "python",
   "pygments_lexer": "ipython3",
   "version": "3.11.0"
  },
  "varInspector": {
   "cols": {
    "lenName": 16,
    "lenType": 16,
    "lenVar": 40
   },
   "kernels_config": {
    "python": {
     "delete_cmd_postfix": "",
     "delete_cmd_prefix": "del ",
     "library": "var_list.py",
     "varRefreshCmd": "print(var_dic_list())"
    },
    "r": {
     "delete_cmd_postfix": ") ",
     "delete_cmd_prefix": "rm(",
     "library": "var_list.r",
     "varRefreshCmd": "cat(var_dic_list()) "
    }
   },
   "types_to_exclude": [
    "module",
    "function",
    "builtin_function_or_method",
    "instance",
    "_Feature"
   ],
   "window_display": false
  }
 },
 "nbformat": 4,
 "nbformat_minor": 5
}
